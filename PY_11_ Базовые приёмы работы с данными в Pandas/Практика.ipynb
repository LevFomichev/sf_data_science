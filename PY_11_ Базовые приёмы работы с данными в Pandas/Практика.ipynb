{
 "cells": [
  {
   "cell_type": "code",
   "execution_count": 6,
   "metadata": {},
   "outputs": [
    {
     "name": "stdout",
     "output_type": "stream",
     "text": [
      "<class 'pandas.core.frame.DataFrame'>\n",
      "RangeIndex: 300000 entries, 0 to 299999\n",
      "Data columns (total 12 columns):\n",
      " #   Column                   Non-Null Count   Dtype  \n",
      "---  ------                   --------------   -----  \n",
      " 0   starttime                300000 non-null  object \n",
      " 1   stoptime                 300000 non-null  object \n",
      " 2   start station name       299831 non-null  object \n",
      " 3   start station latitude   300000 non-null  float64\n",
      " 4   start station longitude  300000 non-null  float64\n",
      " 5   end station name         299831 non-null  object \n",
      " 6   end station latitude     300000 non-null  float64\n",
      " 7   end station longitude    300000 non-null  float64\n",
      " 8   bikeid                   300000 non-null  int64  \n",
      " 9   usertype                 300000 non-null  object \n",
      " 10  gender                   300000 non-null  int64  \n",
      " 11  age                      300000 non-null  int64  \n",
      "dtypes: float64(4), int64(3), object(5)\n",
      "memory usage: 27.5+ MB\n",
      "9\n"
     ]
    }
   ],
   "source": [
    "import pandas as pd\n",
    "citibike_trpidata = pd.read_csv('data/citibike-tripdata.csv', sep = ',')\n",
    "citibike_trpidata = citibike_trpidata.drop('start station id', axis=1)\n",
    "citibike_trpidata = citibike_trpidata.drop('end station id', axis=1)\n",
    "\n",
    "citibike_trpidata['age'] = 2018 - citibike_trpidata['birth year']\n",
    "citibike_trpidata = citibike_trpidata.drop('birth year', axis=1)\n",
    "citibike_trpidata.info()\n",
    "\n",
    "citibike_trpidata['starttime'] = pd.to_datetime(citibike_trpidata['starttime'], dayfirst=False)\n",
    "citibike_trpidata['stoptime'] = pd.to_datetime(citibike_trpidata['stoptime'], dayfirst=False)\n",
    "stoptime = citibike_trpidata['stoptime'].dt.minute\n",
    "starttime = citibike_trpidata['starttime'].dt.minute\n",
    "citibike_trpidata['trip duration'] = stoptime - starttime\n",
    "\n",
    "citibike_trpidata['weekend'] = citibike_trpidata['starttime'].dt.day_of_week\n",
    "def weekends(weekend):\n",
    "    if weekend == 6 or weekend == 5:\n",
    "        return 1\n",
    "    else:\n",
    "        return 0\n",
    "citibike_trpidata['weekend'] = citibike_trpidata['weekend'].apply(weekends)\n",
    "\n",
    "citibike_trpidata['time_of_day'] = citibike_trpidata['starttime'].dt.hour\n",
    "def time_of_day(time):\n",
    "    if time in range(0, 7):\n",
    "        return 'night'\n",
    "    if time in range(7, 13):\n",
    "        return 'morning'\n",
    "    if time in range(13, 19):\n",
    "        return 'day'\n",
    "    if time in range(19, 24):\n",
    "        return 'evening'\n",
    "citibike_trpidata['time_of_day'] = citibike_trpidata['time_of_day'].apply(time_of_day)\n",
    "day = citibike_trpidata[citibike_trpidata['time_of_day'] == 'day'].shape[0]\n",
    "night = citibike_trpidata[citibike_trpidata['time_of_day'] == 'night'].shape[0]\n",
    "print(round(day/night))\n",
    "\n"
   ]
  },
  {
   "cell_type": "code",
   "execution_count": null,
   "metadata": {},
   "outputs": [],
   "source": []
  }
 ],
 "metadata": {
  "kernelspec": {
   "display_name": "Python 3",
   "language": "python",
   "name": "python3"
  },
  "language_info": {
   "codemirror_mode": {
    "name": "ipython",
    "version": 3
   },
   "file_extension": ".py",
   "mimetype": "text/x-python",
   "name": "python",
   "nbconvert_exporter": "python",
   "pygments_lexer": "ipython3",
   "version": "3.12.0"
  }
 },
 "nbformat": 4,
 "nbformat_minor": 2
}
